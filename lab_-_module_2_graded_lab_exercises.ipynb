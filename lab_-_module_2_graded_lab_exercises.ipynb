{
 "cells": [
  {
   "cell_type": "code",
   "execution_count": null,
   "id": "ab24aa7e",
   "metadata": {},
   "outputs": [],
   "source": [
    "\n",
    "# Challenge #1:\n",
    "\n",
    "# Write a Python program that uses three variables.\n",
    "# The variables in your program will be country, province, and city. \n",
    "# Assign a string value to each one of the variables. \n",
    "# Your program should display \"Here is an example of a country, a province, and a city.\" \n",
    "# Then, display the value for the country, the province, and the city.\n",
    "# Each one of the value - the country, the province, and the city\n",
    "# should be printed on their own line. Your program will display four lines in total.\n",
    "\n",
    "# Provide your code below:\n",
    "\n",
    "\n",
    "\n",
    "\n"
   ]
  },
  {
   "cell_type": "code",
   "execution_count": null,
   "id": "538631c9",
   "metadata": {},
   "outputs": [],
   "source": [
    "\n",
    "# Challenge #2:\n",
    "\n",
    "# Create a copy of your original code from Challenge #1 and modify your code to display the same output\n",
    "# but minimize your code to use one print() function only.\n",
    "\n",
    "\n",
    "# Provide your code below:\n",
    "\n",
    "\n",
    "\n",
    "\n"
   ]
  },
  {
   "cell_type": "code",
   "execution_count": 2,
   "id": "1d0d83b7",
   "metadata": {},
   "outputs": [],
   "source": [
    "#\n",
    "# Challenge #3:\n",
    "# Write a Python program that prompts the user to enter firstname, lastname, and program for inputs\n",
    "# and simply displays what the user has entered.\n",
    "\n",
    "\n",
    "# Provide your code below:\n",
    "\n",
    "\n",
    "\n"
   ]
  }
 ],
 "metadata": {
  "kernelspec": {
   "display_name": "Python 3 (ipykernel)",
   "language": "python",
   "name": "python3"
  },
  "language_info": {
   "codemirror_mode": {
    "name": "ipython",
    "version": 3
   },
   "file_extension": ".py",
   "mimetype": "text/x-python",
   "name": "python",
   "nbconvert_exporter": "python",
   "pygments_lexer": "ipython3",
   "version": "3.9.12"
  }
 },
 "nbformat": 4,
 "nbformat_minor": 5
}
